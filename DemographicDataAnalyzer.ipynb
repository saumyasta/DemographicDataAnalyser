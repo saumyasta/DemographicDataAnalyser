{
 "cells": [
  {
   "cell_type": "markdown",
   "id": "38b17320",
   "metadata": {},
   "source": [
    "Given a dataset of demographic data that was extracted from the 1994 Census database, the following questions were required to be answered : \n",
    "(Using pandas)\n",
    "* How many people of each race are represented in this dataset? This should be a Pandas series with race names as the index labels. (race column)\n",
    "* What is the average age of men?\n",
    "* What is the percentage of people who have a Bachelor's degree?\n",
    "* What percentage of people with advanced education (Bachelors, Masters, or Doctorate) make more than 50K?\n",
    "* What percentage of people without advanced education make more than 50K?\n",
    "* What is the minimum number of hours a person works per week?\n",
    "* What percentage of the people who work the minimum number of hours per week have a salary of more than 50K?\n",
    "* What country has the highest percentage of people that earn >50K and what is that percentage?\n",
    "* Identify the most popular occupation for those who earn >50K in India."
   ]
  },
  {
   "cell_type": "code",
   "execution_count": 4,
   "id": "df7342e9",
   "metadata": {},
   "outputs": [
    {
     "data": {
      "text/html": [
       "<div>\n",
       "<style scoped>\n",
       "    .dataframe tbody tr th:only-of-type {\n",
       "        vertical-align: middle;\n",
       "    }\n",
       "\n",
       "    .dataframe tbody tr th {\n",
       "        vertical-align: top;\n",
       "    }\n",
       "\n",
       "    .dataframe thead th {\n",
       "        text-align: right;\n",
       "    }\n",
       "</style>\n",
       "<table border=\"1\" class=\"dataframe\">\n",
       "  <thead>\n",
       "    <tr style=\"text-align: right;\">\n",
       "      <th></th>\n",
       "      <th>age</th>\n",
       "      <th>workclass</th>\n",
       "      <th>fnlwgt</th>\n",
       "      <th>education</th>\n",
       "      <th>education-num</th>\n",
       "      <th>marital-status</th>\n",
       "      <th>occupation</th>\n",
       "      <th>relationship</th>\n",
       "      <th>race</th>\n",
       "      <th>sex</th>\n",
       "      <th>capital-gain</th>\n",
       "      <th>capital-loss</th>\n",
       "      <th>hours-per-week</th>\n",
       "      <th>native-country</th>\n",
       "      <th>salary</th>\n",
       "    </tr>\n",
       "  </thead>\n",
       "  <tbody>\n",
       "    <tr>\n",
       "      <th>0</th>\n",
       "      <td>39</td>\n",
       "      <td>State-gov</td>\n",
       "      <td>77516</td>\n",
       "      <td>Bachelors</td>\n",
       "      <td>13</td>\n",
       "      <td>Never-married</td>\n",
       "      <td>Adm-clerical</td>\n",
       "      <td>Not-in-family</td>\n",
       "      <td>White</td>\n",
       "      <td>Male</td>\n",
       "      <td>2174</td>\n",
       "      <td>0</td>\n",
       "      <td>40</td>\n",
       "      <td>United-States</td>\n",
       "      <td>&lt;=50K</td>\n",
       "    </tr>\n",
       "    <tr>\n",
       "      <th>1</th>\n",
       "      <td>50</td>\n",
       "      <td>Self-emp-not-inc</td>\n",
       "      <td>83311</td>\n",
       "      <td>Bachelors</td>\n",
       "      <td>13</td>\n",
       "      <td>Married-civ-spouse</td>\n",
       "      <td>Exec-managerial</td>\n",
       "      <td>Husband</td>\n",
       "      <td>White</td>\n",
       "      <td>Male</td>\n",
       "      <td>0</td>\n",
       "      <td>0</td>\n",
       "      <td>13</td>\n",
       "      <td>United-States</td>\n",
       "      <td>&lt;=50K</td>\n",
       "    </tr>\n",
       "    <tr>\n",
       "      <th>2</th>\n",
       "      <td>38</td>\n",
       "      <td>Private</td>\n",
       "      <td>215646</td>\n",
       "      <td>HS-grad</td>\n",
       "      <td>9</td>\n",
       "      <td>Divorced</td>\n",
       "      <td>Handlers-cleaners</td>\n",
       "      <td>Not-in-family</td>\n",
       "      <td>White</td>\n",
       "      <td>Male</td>\n",
       "      <td>0</td>\n",
       "      <td>0</td>\n",
       "      <td>40</td>\n",
       "      <td>United-States</td>\n",
       "      <td>&lt;=50K</td>\n",
       "    </tr>\n",
       "  </tbody>\n",
       "</table>\n",
       "</div>"
      ],
      "text/plain": [
       "   age         workclass  fnlwgt  education  education-num  \\\n",
       "0   39         State-gov   77516  Bachelors             13   \n",
       "1   50  Self-emp-not-inc   83311  Bachelors             13   \n",
       "2   38           Private  215646    HS-grad              9   \n",
       "\n",
       "       marital-status         occupation   relationship   race   sex  \\\n",
       "0       Never-married       Adm-clerical  Not-in-family  White  Male   \n",
       "1  Married-civ-spouse    Exec-managerial        Husband  White  Male   \n",
       "2            Divorced  Handlers-cleaners  Not-in-family  White  Male   \n",
       "\n",
       "   capital-gain  capital-loss  hours-per-week native-country salary  \n",
       "0          2174             0              40  United-States  <=50K  \n",
       "1             0             0              13  United-States  <=50K  \n",
       "2             0             0              40  United-States  <=50K  "
      ]
     },
     "execution_count": 4,
     "metadata": {},
     "output_type": "execute_result"
    }
   ],
   "source": [
    "import pandas as pd\n",
    "\n",
    "data = pd.read_csv('adult.data.csv')\n",
    "data.head(3)"
   ]
  },
  {
   "cell_type": "code",
   "execution_count": 5,
   "id": "dda7c364",
   "metadata": {},
   "outputs": [
    {
     "name": "stdout",
     "output_type": "stream",
     "text": [
      "<class 'pandas.core.frame.DataFrame'>\n",
      "RangeIndex: 32561 entries, 0 to 32560\n",
      "Data columns (total 15 columns):\n",
      " #   Column          Non-Null Count  Dtype \n",
      "---  ------          --------------  ----- \n",
      " 0   age             32561 non-null  int64 \n",
      " 1   workclass       32561 non-null  object\n",
      " 2   fnlwgt          32561 non-null  int64 \n",
      " 3   education       32561 non-null  object\n",
      " 4   education-num   32561 non-null  int64 \n",
      " 5   marital-status  32561 non-null  object\n",
      " 6   occupation      32561 non-null  object\n",
      " 7   relationship    32561 non-null  object\n",
      " 8   race            32561 non-null  object\n",
      " 9   sex             32561 non-null  object\n",
      " 10  capital-gain    32561 non-null  int64 \n",
      " 11  capital-loss    32561 non-null  int64 \n",
      " 12  hours-per-week  32561 non-null  int64 \n",
      " 13  native-country  32561 non-null  object\n",
      " 14  salary          32561 non-null  object\n",
      "dtypes: int64(6), object(9)\n",
      "memory usage: 3.7+ MB\n"
     ]
    }
   ],
   "source": [
    "data.info()"
   ]
  },
  {
   "cell_type": "code",
   "execution_count": 3,
   "id": "26bfea46",
   "metadata": {},
   "outputs": [],
   "source": [
    "race_counts = data['race'].value_counts()"
   ]
  },
  {
   "cell_type": "code",
   "execution_count": 6,
   "id": "cb0a68f2",
   "metadata": {},
   "outputs": [],
   "source": [
    "average_age_men = data[data['sex'] == 'Male']['age'].mean()"
   ]
  },
  {
   "cell_type": "code",
   "execution_count": 7,
   "id": "74f856a0",
   "metadata": {},
   "outputs": [],
   "source": [
    "percentage_bachelors = (data[data['education'] == 'Bachelors'].shape[0] / data.shape[0]) * 100"
   ]
  },
  {
   "cell_type": "code",
   "execution_count": 8,
   "id": "693bee88",
   "metadata": {},
   "outputs": [],
   "source": [
    "higher_education = data[data['education'].isin(['Bachelors', 'Masters', 'Doctorate'])]\n",
    "percentage_higher_education_rich = (higher_education[higher_education['salary'] == '>50K'].shape[0] / higher_education.shape[0]) * 100"
   ]
  },
  {
   "cell_type": "code",
   "execution_count": 9,
   "id": "1b14464f",
   "metadata": {},
   "outputs": [],
   "source": [
    "lower_education = data[~data['education'].isin(['Bachelors', 'Masters', 'Doctorate'])]\n",
    "percentage_lower_education_rich = (lower_education[lower_education['salary'] == '>50K'].shape[0] / lower_education.shape[0]) * 100"
   ]
  },
  {
   "cell_type": "code",
   "execution_count": 10,
   "id": "d8454f10",
   "metadata": {},
   "outputs": [],
   "source": [
    "min_work_hours = data['hours-per-week'].min()"
   ]
  },
  {
   "cell_type": "code",
   "execution_count": 11,
   "id": "30e7d15c",
   "metadata": {},
   "outputs": [],
   "source": [
    "num_min_workers = data[data['hours-per-week'] == min_work_hours]\n",
    "percentage_min_workers_rich = (num_min_workers[num_min_workers['salary'] == '>50K'].shape[0] / num_min_workers.shape[0]) * 100"
   ]
  },
  {
   "cell_type": "code",
   "execution_count": 12,
   "id": "78624e94",
   "metadata": {},
   "outputs": [],
   "source": [
    "highest_earning_country = (data[data['salary'] == '>50K']['native-country'].value_counts() / data['native-country'].value_counts()).idxmax()\n",
    "highest_earning_country_percentage = (data[data['salary'] == '>50K']['native-country'].value_counts() / data['native-country'].value_counts() * 100).max()"
   ]
  },
  {
   "cell_type": "code",
   "execution_count": 13,
   "id": "4d32deaa",
   "metadata": {},
   "outputs": [],
   "source": [
    "top_IN_occupation = data[(data['native-country'] == 'India') & (data['salary'] == '>50K')]['occupation'].value_counts().idxmax()"
   ]
  },
  {
   "cell_type": "code",
   "execution_count": 15,
   "id": "30154dfd",
   "metadata": {},
   "outputs": [
    {
     "name": "stdout",
     "output_type": "stream",
     "text": [
      "Race counts:\n",
      "White                 27816\n",
      "Black                  3124\n",
      "Asian-Pac-Islander     1039\n",
      "Amer-Indian-Eskimo      311\n",
      "Other                   271\n",
      "Name: race, dtype: int64\n",
      "\n",
      "Average age of men: 39.43354749885268\n",
      "\n",
      "Percentage of people with a Bachelor's degree: 16.44605509658794\n",
      "\n",
      "Percentage of people with advanced education earning >50K: 46.535843011613935\n",
      "\n",
      "Percentage of people without advanced education earning >50K: 17.3713601914639\n",
      "\n",
      "Minimum number of hours worked per week: 1\n",
      "\n",
      "Percentage of minimum workers earning >50K: 10.0\n",
      "\n",
      "Country with the highest percentage of people earning >50K: Iran\n",
      "Percentage: 41.86046511627907\n",
      "\n",
      "Most popular occupation for those earning >50K in India: Prof-specialty\n"
     ]
    }
   ],
   "source": [
    "# How many people of each race are represented in this dataset?\n",
    "race_counts = data['race'].value_counts()\n",
    "print(\"Race counts:\")\n",
    "print(race_counts)\n",
    "print()\n",
    "\n",
    "# What is the average age of men?\n",
    "average_age_men = data[data['sex'] == 'Male']['age'].mean()\n",
    "print(\"Average age of men:\", average_age_men)\n",
    "print()\n",
    "\n",
    "# What is the percentage of people who have a Bachelor's degree?\n",
    "percentage_bachelors = (data[data['education'] == 'Bachelors'].shape[0] / data.shape[0]) * 100\n",
    "print(\"Percentage of people with a Bachelor's degree:\", percentage_bachelors)\n",
    "print()\n",
    "\n",
    "# What percentage of people with advanced education (Bachelors, Masters, or Doctorate) make more than 50K?\n",
    "higher_education = data[data['education'].isin(['Bachelors', 'Masters', 'Doctorate'])]\n",
    "percentage_higher_education_rich = (higher_education[higher_education['salary'] == '>50K'].shape[0] / higher_education.shape[0]) * 100\n",
    "print(\"Percentage of people with advanced education earning >50K:\", percentage_higher_education_rich)\n",
    "print()\n",
    "\n",
    "# What percentage of people without advanced education make more than 50K?\n",
    "lower_education = data[~data['education'].isin(['Bachelors', 'Masters', 'Doctorate'])]\n",
    "percentage_lower_education_rich = (lower_education[lower_education['salary'] == '>50K'].shape[0] / lower_education.shape[0]) * 100\n",
    "print(\"Percentage of people without advanced education earning >50K:\", percentage_lower_education_rich)\n",
    "print()\n",
    "\n",
    "# What is the minimum number of hours a person works per week?\n",
    "min_work_hours = data['hours-per-week'].min()\n",
    "print(\"Minimum number of hours worked per week:\", min_work_hours)\n",
    "print()\n",
    "\n",
    "# What percentage of the people who work the minimum number of hours per week have a salary of more than 50K?\n",
    "num_min_workers = data[data['hours-per-week'] == min_work_hours]\n",
    "percentage_min_workers_rich = (num_min_workers[num_min_workers['salary'] == '>50K'].shape[0] / num_min_workers.shape[0]) * 100\n",
    "print(\"Percentage of minimum workers earning >50K:\", percentage_min_workers_rich)\n",
    "print()\n",
    "\n",
    "# What country has the highest percentage of people that earn >50K and what is that percentage?\n",
    "highest_earning_country = (data[data['salary'] == '>50K']['native-country'].value_counts() / data['native-country'].value_counts()).idxmax()\n",
    "highest_earning_country_percentage = (data[data['salary'] == '>50K']['native-country'].value_counts() / data['native-country'].value_counts() * 100).max()\n",
    "print(\"Country with the highest percentage of people earning >50K:\", highest_earning_country)\n",
    "print(\"Percentage:\", highest_earning_country_percentage)\n",
    "print()\n",
    "\n",
    "# Identify the most popular occupation for those who earn >50K in India.\n",
    "top_IN_occupation = data[(data['native-country'] == 'India') & (data['salary'] == '>50K')]['occupation'].value_counts().idxmax()\n",
    "print(\"Most popular occupation for those earning >50K in India:\", top_IN_occupation)\n"
   ]
  },
  {
   "cell_type": "code",
   "execution_count": null,
   "id": "c00e345c",
   "metadata": {},
   "outputs": [],
   "source": []
  }
 ],
 "metadata": {
  "kernelspec": {
   "display_name": "Python 3 (ipykernel)",
   "language": "python",
   "name": "python3"
  },
  "language_info": {
   "codemirror_mode": {
    "name": "ipython",
    "version": 3
   },
   "file_extension": ".py",
   "mimetype": "text/x-python",
   "name": "python",
   "nbconvert_exporter": "python",
   "pygments_lexer": "ipython3",
   "version": "3.9.12"
  }
 },
 "nbformat": 4,
 "nbformat_minor": 5
}
